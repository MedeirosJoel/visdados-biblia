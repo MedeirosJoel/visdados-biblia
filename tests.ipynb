{
 "cells": [
  {
   "cell_type": "code",
   "execution_count": 32,
   "metadata": {},
   "outputs": [],
   "source": [
    "import pandas as pd\n",
    "from main import versions\n",
    "import matplotlib as mp"
   ]
  },
  {
   "cell_type": "code",
   "execution_count": 33,
   "metadata": {},
   "outputs": [],
   "source": [
    "def load_utils(filepatch):\n",
    "    temp = pd.read_csv(filepatch)\n",
    "    tempSorted = temp.sort_values('count', ascending=False, ignore_index=True)\n",
    "    return tempSorted"
   ]
  },
  {
   "cell_type": "code",
   "execution_count": 34,
   "metadata": {},
   "outputs": [],
   "source": [
    "dfs = {}\n",
    "top_five = {}\n",
    "\n",
    "for version in versions:\n",
    "    filepatch = f'./csv/{version}.csv'\n",
    "    temp = load_utils(filepatch)\n",
    "    dfs[version] = temp\n",
    "    top_five[version] = dfs[version][:5]\n",
    "\n",
    "\n"
   ]
  }
 ],
 "metadata": {
  "kernelspec": {
   "display_name": "Python 3.10.6 ('.venv': venv)",
   "language": "python",
   "name": "python3"
  },
  "language_info": {
   "codemirror_mode": {
    "name": "ipython",
    "version": 3
   },
   "file_extension": ".py",
   "mimetype": "text/x-python",
   "name": "python",
   "nbconvert_exporter": "python",
   "pygments_lexer": "ipython3",
   "version": "3.10.6"
  },
  "orig_nbformat": 4,
  "vscode": {
   "interpreter": {
    "hash": "1774af196f59d063552abd68101f6d600f73415d18e19ff2f39b4d92c498959e"
   }
  }
 },
 "nbformat": 4,
 "nbformat_minor": 2
}
